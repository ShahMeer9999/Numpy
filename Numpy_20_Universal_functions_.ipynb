{
  "nbformat": 4,
  "nbformat_minor": 0,
  "metadata": {
    "colab": {
      "provenance": []
    },
    "kernelspec": {
      "name": "python3",
      "display_name": "Python 3"
    },
    "language_info": {
      "name": "python"
    }
  },
  "cells": [
    {
      "cell_type": "code",
      "source": [
        "import numpy as np"
      ],
      "metadata": {
        "id": "FCmebolMqIjy"
      },
      "execution_count": null,
      "outputs": []
    },
    {
      "cell_type": "markdown",
      "source": [
        "# Example Without Unviversal Functions , here we will use Python in built zip()"
      ],
      "metadata": {
        "id": "Dyt0wA10qdvZ"
      }
    },
    {
      "cell_type": "code",
      "source": [
        "x = [1,2,3,4]\n",
        "y = [4,5,6,7]\n",
        "z = []\n",
        "for i, j in zip(x,y):\n",
        "  z.append(i+j)\n",
        "print(z)"
      ],
      "metadata": {
        "colab": {
          "base_uri": "https://localhost:8080/"
        },
        "id": "H931sJx_qMxJ",
        "outputId": "d0629008-4982-48c1-fef3-d01ee95720b8"
      },
      "execution_count": null,
      "outputs": [
        {
          "output_type": "stream",
          "name": "stdout",
          "text": [
            "[5, 7, 9, 11]\n"
          ]
        }
      ]
    },
    {
      "cell_type": "markdown",
      "source": [
        "# Binary Universal Functions of Numpy"
      ],
      "metadata": {
        "id": "AAFXsYCf62cb"
      }
    },
    {
      "cell_type": "code",
      "source": [
        "x = np.arange(4,40)\n",
        "y = np.arange(2.6,30.5)\n",
        "print(x)\n",
        "print(y)\n"
      ],
      "metadata": {
        "colab": {
          "base_uri": "https://localhost:8080/"
        },
        "id": "FHYfU9T_64g7",
        "outputId": "7805b431-37fe-4b13-c0c0-b626cb98fae5"
      },
      "execution_count": null,
      "outputs": [
        {
          "output_type": "stream",
          "name": "stdout",
          "text": [
            "[ 4  5  6  7  8  9 10 11 12 13 14 15 16 17 18 19 20 21 22 23 24 25 26 27\n",
            " 28 29 30 31 32 33 34 35 36 37 38 39]\n",
            "[ 2.6  3.6  4.6  5.6  6.6  7.6  8.6  9.6 10.6 11.6 12.6 13.6 14.6 15.6\n",
            " 16.6 17.6 18.6 19.6 20.6 21.6 22.6 23.6 24.6 25.6 26.6 27.6 28.6 29.6]\n"
          ]
        }
      ]
    },
    {
      "cell_type": "markdown",
      "source": [
        "# add coresponding elements in arrays"
      ],
      "metadata": {
        "id": "M-fu5ijT7I9E"
      }
    },
    {
      "cell_type": "markdown",
      "source": [
        " # With Unviversal Functions , we will now use add() function "
      ],
      "metadata": {
        "id": "wh1TU8rHrrtL"
      }
    },
    {
      "cell_type": "code",
      "source": [
        "x = [1,2,3,4]\n",
        "y = [4,5,6,7]\n",
        "z = np.add(x,y)\n",
        "print(z)"
      ],
      "metadata": {
        "colab": {
          "base_uri": "https://localhost:8080/"
        },
        "id": "tRs9Q2IQr7xC",
        "outputId": "6ebc57c3-dd74-4739-fd1b-bdc4025c3d43"
      },
      "execution_count": null,
      "outputs": [
        {
          "output_type": "stream",
          "name": "stdout",
          "text": [
            "[ 5  7  9 11]\n"
          ]
        }
      ]
    },
    {
      "cell_type": "markdown",
      "source": [
        "# Numpy Universal Function\n"
      ],
      "metadata": {
        "id": "XEZBV36OzAcV"
      }
    },
    {
      "cell_type": "code",
      "source": [
        "np1 = np.array([-3,-2,-1,0,1,2,3,4,5,6,7,8,9])\n",
        "print(np1)"
      ],
      "metadata": {
        "colab": {
          "base_uri": "https://localhost:8080/"
        },
        "id": "yS112pyhytt9",
        "outputId": "6918ec90-2c21-4581-e7ad-777150732387"
      },
      "execution_count": null,
      "outputs": [
        {
          "output_type": "stream",
          "name": "stdout",
          "text": [
            "[0 1 2 3 4 5 6 7 8 9]\n"
          ]
        }
      ]
    },
    {
      "cell_type": "markdown",
      "source": [
        "# Square roues of each element"
      ],
      "metadata": {
        "id": "ybvg0bh3zE6t"
      }
    },
    {
      "cell_type": "code",
      "source": [
        "print(np.sqrt(np1))"
      ],
      "metadata": {
        "colab": {
          "base_uri": "https://localhost:8080/"
        },
        "id": "mumfKPN4y409",
        "outputId": "ceb30e1e-f0e5-407d-af18-087e85e6b03f"
      },
      "execution_count": null,
      "outputs": [
        {
          "output_type": "stream",
          "name": "stdout",
          "text": [
            "[0.         1.         1.41421356 1.73205081 2.         2.23606798\n",
            " 2.44948974 2.64575131 2.82842712 3.        ]\n"
          ]
        }
      ]
    },
    {
      "cell_type": "markdown",
      "source": [
        "# Absolute Value"
      ],
      "metadata": {
        "id": "KzLM5i1vzrsO"
      }
    },
    {
      "cell_type": "code",
      "source": [
        "print(np.absolute(np1))"
      ],
      "metadata": {
        "colab": {
          "base_uri": "https://localhost:8080/"
        },
        "id": "4_1x_aUqzwFV",
        "outputId": "9cf92202-cc83-4ce9-f041-ed19a22fb6e4"
      },
      "execution_count": null,
      "outputs": [
        {
          "output_type": "stream",
          "name": "stdout",
          "text": [
            "[0 1 2 3 4 5 6 7 8 9]\n"
          ]
        }
      ]
    },
    {
      "cell_type": "markdown",
      "source": [
        "# Exponents"
      ],
      "metadata": {
        "id": "Y7_mkcasz8Qe"
      }
    },
    {
      "cell_type": "code",
      "source": [
        "print(np.max(np1))\n",
        "print(np.min(np1))"
      ],
      "metadata": {
        "colab": {
          "base_uri": "https://localhost:8080/"
        },
        "id": "CZ1JVyUfz-KI",
        "outputId": "2cd7abe7-82c6-4698-a82f-85d4141218b5"
      },
      "execution_count": null,
      "outputs": [
        {
          "output_type": "stream",
          "name": "stdout",
          "text": [
            "9\n",
            "0\n"
          ]
        }
      ]
    },
    {
      "cell_type": "markdown",
      "source": [
        "# Sign Positive or negative"
      ],
      "metadata": {
        "id": "SH_WM5qr0F_2"
      }
    },
    {
      "cell_type": "code",
      "source": [
        "print(np.sign(np1))"
      ],
      "metadata": {
        "colab": {
          "base_uri": "https://localhost:8080/"
        },
        "id": "KGfG4dtX0OnO",
        "outputId": "3d39eb59-2d2c-4006-9578-c487030018d1"
      },
      "execution_count": null,
      "outputs": [
        {
          "output_type": "stream",
          "name": "stdout",
          "text": [
            "[0 1 1 1 1 1 1 1 1 1]\n"
          ]
        }
      ]
    },
    {
      "cell_type": "markdown",
      "source": [
        "#Trig Sin Cos Log"
      ],
      "metadata": {
        "id": "Fb1QDS_m0a4-"
      }
    },
    {
      "cell_type": "code",
      "source": [],
      "metadata": {
        "id": "mnOGy7RtkgSu"
      },
      "execution_count": null,
      "outputs": []
    },
    {
      "cell_type": "code",
      "source": [
        "print(np.log(np1))"
      ],
      "metadata": {
        "colab": {
          "base_uri": "https://localhost:8080/"
        },
        "id": "RBCLlFI50dku",
        "outputId": "98075e0d-12ab-4759-fcb0-b9c0030b3557"
      },
      "execution_count": null,
      "outputs": [
        {
          "output_type": "stream",
          "name": "stdout",
          "text": [
            "[      -inf 0.         0.69314718 1.09861229 1.38629436 1.60943791\n",
            " 1.79175947 1.94591015 2.07944154 2.19722458]\n"
          ]
        },
        {
          "output_type": "stream",
          "name": "stderr",
          "text": [
            "<ipython-input-10-08c2794a484a>:1: RuntimeWarning: divide by zero encountered in log\n",
            "  print(np.log(np1))\n"
          ]
        }
      ]
    },
    {
      "cell_type": "markdown",
      "source": [
        "#Unary Universal Functions of Numpy"
      ],
      "metadata": {
        "id": "MnhvSk9C2Leu"
      }
    },
    {
      "cell_type": "code",
      "source": [
        "a = np.arange(1,11)\n",
        "a"
      ],
      "metadata": {
        "colab": {
          "base_uri": "https://localhost:8080/"
        },
        "id": "Lz09cthq2A6n",
        "outputId": "bc6d9524-a9b3-42cf-a3b7-d86afe770491"
      },
      "execution_count": null,
      "outputs": [
        {
          "output_type": "execute_result",
          "data": {
            "text/plain": [
              "array([ 1,  2,  3,  4,  5,  6,  7,  8,  9, 10])"
            ]
          },
          "metadata": {},
          "execution_count": 2
        }
      ]
    },
    {
      "cell_type": "markdown",
      "source": [
        "#Compute square root"
      ],
      "metadata": {
        "id": "fF51lhMm2i8f"
      }
    },
    {
      "cell_type": "code",
      "source": [
        "np.sqrt(a)"
      ],
      "metadata": {
        "colab": {
          "base_uri": "https://localhost:8080/"
        },
        "id": "F1Q2ROsL2t-X",
        "outputId": "6c43871a-158a-43b1-e00c-2e43de3637c0"
      },
      "execution_count": null,
      "outputs": [
        {
          "output_type": "execute_result",
          "data": {
            "text/plain": [
              "array([1.        , 1.41421356, 1.73205081, 2.        , 2.23606798,\n",
              "       2.44948974, 2.64575131, 2.82842712, 3.        , 3.16227766])"
            ]
          },
          "metadata": {},
          "execution_count": 3
        }
      ]
    },
    {
      "cell_type": "markdown",
      "source": [
        "#compute exponential value"
      ],
      "metadata": {
        "id": "1k1rIbfk23r1"
      }
    },
    {
      "cell_type": "code",
      "source": [
        "np.exp(a)"
      ],
      "metadata": {
        "colab": {
          "base_uri": "https://localhost:8080/"
        },
        "id": "5mhhdG9J24w7",
        "outputId": "c5f28ce8-93d0-4c89-8c27-7bd630911df1"
      },
      "execution_count": null,
      "outputs": [
        {
          "output_type": "execute_result",
          "data": {
            "text/plain": [
              "array([2.71828183e+00, 7.38905610e+00, 2.00855369e+01, 5.45981500e+01,\n",
              "       1.48413159e+02, 4.03428793e+02, 1.09663316e+03, 2.98095799e+03,\n",
              "       8.10308393e+03, 2.20264658e+04])"
            ]
          },
          "metadata": {},
          "execution_count": 4
        }
      ]
    },
    {
      "cell_type": "markdown",
      "source": [
        "# Natural logarithm base e,log10,log2 and log1p"
      ],
      "metadata": {
        "id": "lIMPduBr29NO"
      }
    },
    {
      "cell_type": "code",
      "source": [
        "np.log(a)\n",
        "print(a)\n",
        "np.log10(a)\n",
        "print(a)\n",
        "np.log2(a)\n",
        "print(a)\n",
        "np.log1p(a)\n",
        "print(a)\n"
      ],
      "metadata": {
        "colab": {
          "base_uri": "https://localhost:8080/"
        },
        "id": "f0Z9ro7X24z7",
        "outputId": "b5c30eac-c254-4454-f26c-4228f7bdd37e"
      },
      "execution_count": null,
      "outputs": [
        {
          "output_type": "stream",
          "name": "stdout",
          "text": [
            "[ 1  2  3  4  5  6  7  8  9 10]\n",
            "[ 1  2  3  4  5  6  7  8  9 10]\n",
            "[ 1  2  3  4  5  6  7  8  9 10]\n",
            "[ 1  2  3  4  5  6  7  8  9 10]\n"
          ]
        }
      ]
    },
    {
      "cell_type": "markdown",
      "source": [
        "#compute the sign of each element(1=+ve,0=-ve,-1=-ve)\n"
      ],
      "metadata": {
        "id": "4PX7xjmT3MvG"
      }
    },
    {
      "cell_type": "code",
      "source": [
        "np.sign(a)"
      ],
      "metadata": {
        "colab": {
          "base_uri": "https://localhost:8080/"
        },
        "id": "VtALO8Qp3PqS",
        "outputId": "b5528686-f846-4c71-e6b4-2d1dbc4bf88e"
      },
      "execution_count": null,
      "outputs": [
        {
          "output_type": "execute_result",
          "data": {
            "text/plain": [
              "array([1, 1, 1, 1, 1, 1, 1, 1, 1, 1])"
            ]
          },
          "metadata": {},
          "execution_count": 8
        }
      ]
    },
    {
      "cell_type": "markdown",
      "source": [
        "#new array"
      ],
      "metadata": {
        "id": "xB9RV8gJ3d1l"
      }
    },
    {
      "cell_type": "code",
      "source": [
        "a1 = np.arange(0.2,20.1)\n",
        "print(a1)"
      ],
      "metadata": {
        "colab": {
          "base_uri": "https://localhost:8080/"
        },
        "id": "NzIhlnxK3fTT",
        "outputId": "66809996-b7ac-442f-c1d8-857ef7679469"
      },
      "execution_count": null,
      "outputs": [
        {
          "output_type": "stream",
          "name": "stdout",
          "text": [
            "[ 0.2  1.2  2.2  3.2  4.2  5.2  6.2  7.2  8.2  9.2 10.2 11.2 12.2 13.2\n",
            " 14.2 15.2 16.2 17.2 18.2 19.2]\n"
          ]
        }
      ]
    },
    {
      "cell_type": "markdown",
      "source": [
        "#compute exponential value"
      ],
      "metadata": {
        "id": "N90scxwj3k8g"
      }
    },
    {
      "cell_type": "code",
      "source": [
        "np.exp(a)"
      ],
      "metadata": {
        "colab": {
          "base_uri": "https://localhost:8080/"
        },
        "id": "CDbzOof03nGT",
        "outputId": "19511ad7-7933-4134-caaf-9ddf6c3793b4"
      },
      "execution_count": null,
      "outputs": [
        {
          "output_type": "execute_result",
          "data": {
            "text/plain": [
              "array([2.71828183e+00, 7.38905610e+00, 2.00855369e+01, 5.45981500e+01,\n",
              "       1.48413159e+02, 4.03428793e+02, 1.09663316e+03, 2.98095799e+03,\n",
              "       8.10308393e+03, 2.20264658e+04])"
            ]
          },
          "metadata": {},
          "execution_count": 10
        }
      ]
    },
    {
      "cell_type": "markdown",
      "source": [
        "# Compute the ceiling of each element(i.e. the smaller integer is greater or equal to that number) \n"
      ],
      "metadata": {
        "id": "M5Ua5_ew4DrG"
      }
    },
    {
      "cell_type": "code",
      "source": [
        "np.ceil(a1)"
      ],
      "metadata": {
        "colab": {
          "base_uri": "https://localhost:8080/"
        },
        "id": "ycou1SE84FYK",
        "outputId": "6f8ea8dc-8795-4de2-a121-5a76a7bb34fa"
      },
      "execution_count": null,
      "outputs": [
        {
          "output_type": "execute_result",
          "data": {
            "text/plain": [
              "array([ 1.,  2.,  3.,  4.,  5.,  6.,  7.,  8.,  9., 10., 11., 12., 13.,\n",
              "       14., 15., 16., 17., 18., 19., 20.])"
            ]
          },
          "metadata": {},
          "execution_count": 11
        }
      ]
    },
    {
      "cell_type": "markdown",
      "source": [
        "# Compute the floor of each element(i.e. the largest integer is less or equal to that number) \n"
      ],
      "metadata": {
        "id": "b0vp44Jd4LEs"
      }
    },
    {
      "cell_type": "code",
      "source": [
        "np.floor(a1)"
      ],
      "metadata": {
        "colab": {
          "base_uri": "https://localhost:8080/"
        },
        "id": "82k8sz8f4VCb",
        "outputId": "0d7ae4fd-5a96-4f29-9726-51a8ebd34ea3"
      },
      "execution_count": null,
      "outputs": [
        {
          "output_type": "execute_result",
          "data": {
            "text/plain": [
              "array([ 0.,  1.,  2.,  3.,  4.,  5.,  6.,  7.,  8.,  9., 10., 11., 12.,\n",
              "       13., 14., 15., 16., 17., 18., 19.])"
            ]
          },
          "metadata": {},
          "execution_count": 12
        }
      ]
    },
    {
      "cell_type": "markdown",
      "source": [
        "# Round elements to the nearest interger "
      ],
      "metadata": {
        "id": "AGhx7HHn42Q2"
      }
    },
    {
      "cell_type": "markdown",
      "source": [
        "# Round elements to the nearest interger "
      ],
      "metadata": {
        "id": "WZ031lEn20Nd"
      }
    },
    {
      "cell_type": "code",
      "source": [
        "np.rint(a1)"
      ],
      "metadata": {
        "colab": {
          "base_uri": "https://localhost:8080/"
        },
        "id": "HKG2lWYA6FgD",
        "outputId": "7f40d2ad-b5a7-43d7-b677-c56c7638748b"
      },
      "execution_count": null,
      "outputs": [
        {
          "output_type": "execute_result",
          "data": {
            "text/plain": [
              "array([ 0.,  1.,  2.,  3.,  4.,  5.,  6.,  7.,  8.,  9., 10., 11., 12.,\n",
              "       13., 14., 15., 16., 17., 18., 19.])"
            ]
          },
          "metadata": {},
          "execution_count": 14
        }
      ]
    },
    {
      "cell_type": "markdown",
      "source": [
        "# Return fractional or integer parts as a separate array\n"
      ],
      "metadata": {
        "id": "Ktsab0TY6Jwb"
      }
    },
    {
      "cell_type": "code",
      "source": [
        "np.modf(a1)"
      ],
      "metadata": {
        "colab": {
          "base_uri": "https://localhost:8080/"
        },
        "id": "QAVWrR0o6Tba",
        "outputId": "c0d1b4ee-9e98-46ba-a973-f6dd67c67f90"
      },
      "execution_count": null,
      "outputs": [
        {
          "output_type": "execute_result",
          "data": {
            "text/plain": [
              "(array([0.2, 0.2, 0.2, 0.2, 0.2, 0.2, 0.2, 0.2, 0.2, 0.2, 0.2, 0.2, 0.2,\n",
              "        0.2, 0.2, 0.2, 0.2, 0.2, 0.2, 0.2]),\n",
              " array([ 0.,  1.,  2.,  3.,  4.,  5.,  6.,  7.,  8.,  9., 10., 11., 12.,\n",
              "        13., 14., 15., 16., 17., 18., 19.]))"
            ]
          },
          "metadata": {},
          "execution_count": 15
        }
      ]
    },
    {
      "cell_type": "markdown",
      "source": [
        "# Return boolean array indicating weather each value is NaN (Not a Number)"
      ],
      "metadata": {
        "id": "iDMPxCSc6Yvy"
      }
    },
    {
      "cell_type": "code",
      "source": [
        "np.isnan(a1)"
      ],
      "metadata": {
        "colab": {
          "base_uri": "https://localhost:8080/"
        },
        "id": "b49bxyze6c1n",
        "outputId": "adbb2772-c75d-4aba-f3df-d55ffd6db05a"
      },
      "execution_count": null,
      "outputs": [
        {
          "output_type": "execute_result",
          "data": {
            "text/plain": [
              "array([False, False, False, False, False, False, False, False, False,\n",
              "       False, False, False, False, False, False, False, False, False,\n",
              "       False, False])"
            ]
          },
          "metadata": {},
          "execution_count": 16
        }
      ]
    },
    {
      "cell_type": "markdown",
      "source": [
        "# Return boolean array indicating weather each element is finite"
      ],
      "metadata": {
        "id": "u-qFfuMP6gLx"
      }
    },
    {
      "cell_type": "code",
      "source": [
        "np.isfinite(a1)"
      ],
      "metadata": {
        "colab": {
          "base_uri": "https://localhost:8080/"
        },
        "id": "xRXHqU0z6loS",
        "outputId": "e707a1f3-05de-4b44-fd2f-2832fbf84b3a"
      },
      "execution_count": null,
      "outputs": [
        {
          "output_type": "execute_result",
          "data": {
            "text/plain": [
              "array([ True,  True,  True,  True,  True,  True,  True,  True,  True,\n",
              "        True,  True,  True,  True,  True,  True,  True,  True,  True,\n",
              "        True,  True])"
            ]
          },
          "metadata": {},
          "execution_count": 17
        }
      ]
    },
    {
      "cell_type": "markdown",
      "source": [
        "# Return boolean array indicating weather each element is infinite"
      ],
      "metadata": {
        "id": "wfMj6crr6oeK"
      }
    },
    {
      "cell_type": "code",
      "source": [
        "np.isinf(a1)"
      ],
      "metadata": {
        "colab": {
          "base_uri": "https://localhost:8080/"
        },
        "id": "zD5hCmAN6thh",
        "outputId": "9cd547b6-f965-4ab3-fe5a-271fc51668fc"
      },
      "execution_count": null,
      "outputs": [
        {
          "output_type": "execute_result",
          "data": {
            "text/plain": [
              "array([False, False, False, False, False, False, False, False, False,\n",
              "       False, False, False, False, False, False, False, False, False,\n",
              "       False, False])"
            ]
          },
          "metadata": {},
          "execution_count": 18
        }
      ]
    },
    {
      "cell_type": "markdown",
      "source": [],
      "metadata": {
        "id": "hMmdBvmE7AvK"
      }
    }
  ]
}